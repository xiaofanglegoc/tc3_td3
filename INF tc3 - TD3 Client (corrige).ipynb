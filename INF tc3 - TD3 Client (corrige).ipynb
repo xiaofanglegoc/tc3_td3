{
 "cells": [
  {
   "cell_type": "markdown",
   "metadata": {},
   "source": [
    "#    <center>Informatique tc3 (Projet Web) - TD3</center>"
   ]
  },
  {
   "cell_type": "markdown",
   "metadata": {},
   "source": [
    "## <center style=\"color: #66d\">Développement d'interfaces Web</center>"
   ]
  },
  {
   "cell_type": "markdown",
   "metadata": {},
   "source": [
    "### 1. Préambule"
   ]
  },
  {
   "cell_type": "markdown",
   "metadata": {},
   "source": [
    "#### a) Modalités pratiques"
   ]
  },
  {
   "cell_type": "markdown",
   "metadata": {},
   "source": [
    "Il est possible d'inclure du code HTML dans un notebook ipython. Essayez : c'est simple, il suffit d'écrire des balises dans une zone de texte <i>(Markdown)</i>. Si vous manquez d'inspiration, vérifiez simplement comment <em>CE TEXTE</em> a été mis en italiques, ou <strong>CELUI-CI</strong> en gras, en regardant simplement le code source de la cellule."
   ]
  },
  {
   "cell_type": "markdown",
   "metadata": {},
   "source": [
    "Le développement d'interfaces pour une application Web dans un notebook n'est toutefois pas possible car&#160;:\n",
    "- la mise en page du notebook va interférer avec la présentation graphique de votre interface,\n",
    "- l'interactivité de votre interface va interférer avec celle du notebook,\n",
    "- la soumission d'un formulaire va vous faire quitter le notebook,\n",
    "- vous ne pourrez pas facilement exécuter du code javascript dans votre notebook,\n",
    "- il existe des règles de sécurité qui empêchent un navigateur d'émettre des requêtes AJAX vers un serveur <i>(celui que vous aurez développé)</i> autre que celui dont est issu la page qui envoie la requête <em>(le serveur de notebook)."
   ]
  },
  {
   "cell_type": "markdown",
   "metadata": {},
   "source": [
    "Pour toutes ces raisons, il va falloir :\n",
    "\n",
    "1) vous munir de votre éditeur de texte favori <sup>*</sup>,\n",
    "\n",
    "2) créer vos fichiers <tt>.html</tt> et <tt>.css</tt> dans __le répertoire <tt>/client</tt>__ de votre serveur.\n",
    "\n",
    "3) accéder aux fichiers html <b>via votre serveur</b>.<br>\n",
    "AJAX ne fonctionnera pas si vous ouvrez vos pages html en faisant un double-clic sur le fichier <i>(cf. url en file:// dans la barre d'adresse du navigateur)</i>."
   ]
  },
  {
   "cell_type": "markdown",
   "metadata": {},
   "source": [
    "#### b) Choix d'un éditeur de texte"
   ]
  },
  {
   "cell_type": "markdown",
   "metadata": {},
   "source": [
    "N'importe quel éditeur de texte fait l'affaire. Attention, ni Word, ni WordPad ne sont des éditeurs de texte : ce sont des programmes de <em>traitement de texte</em>. Voici quelques suggestions si vous n'avez pas déjà votre favori :"
   ]
  },
  {
   "cell_type": "markdown",
   "metadata": {},
   "source": [
    "<img title=\"Bloc Notes Windows\" src=\"notepad.png\" style=\"display:inline;width:120px\">\n",
    "<img title=\"Notepad++\" src=\"Notepadpp_Logo.png\" style=\"display:inline;width:120px;margin-left:50px\">\n",
    "<img title=\"Vim - Vi for Windows\"src=\"VimLogo.svg\" style=\"display:inline;width:120px;margin-left:50px\">\n",
    "<img title=\"Emacs\" src=\"EmacsIcon.svg\" style=\"display:inline;width:120px;margin-left:50px\">\n",
    "<img title=\"Sublime Text\" src=\"Sublime_Text.png\" style=\"display:inline;width:120px;margin-left:50px\">"
   ]
  },
  {
   "cell_type": "markdown",
   "metadata": {},
   "source": [
    "Si tout cela vous laisse perplexe, téléchargez et installez Sublime Text, il convient très bien et il en existe une version pour toutes les platerformes."
   ]
  },
  {
   "cell_type": "markdown",
   "metadata": {},
   "source": [
    "### 2. Développement d'une première interface simple"
   ]
  },
  {
   "cell_type": "markdown",
   "metadata": {},
   "source": [
    "<div style=\"background-color:#eef;padding:10px;border-radius:3px\">\n",
    "<b>2.1 -</b>\n",
    "Développez un document HTML appelé <a href=\"http://localhost:8080/Q2-1.html\"><tt>Q2-1.html</tt></a> dans le répertoire <tt>client</tt> de ce TD. Cette page comprendra un formulaire qui demande le nom et le prénom de l'utilisateur. Lors de la soumission du formulaire on désire que le navigateur appelle le serveur dont est issu le document avec la méthode <tt>POST</tt>, le chemin d'accès <tt>/toctoc</tt> et les variables <tt>Nom</tt> et <tt>Prenom</tt> dans la chaîne de requête envoyée avec le corps.\n",
    "\n",
    "Une fois cette page développée, démarrez le serveur <tt>serveur.py</tt> fourni avec ce TD et vérifiez que le serveur vous renvoie bien le résultat attendu :\n",
    "\n",
    "<img src=\"EvaDrouy.png\">"
   ]
  },
  {
   "cell_type": "markdown",
   "metadata": {},
   "source": [
    "<div style=\"background-color:#eef;padding:10px;border-radius:3px\">\n",
    "<b>2.2 -</b> Une fois votre formulaire fonctionnel, et en vous aidant du cours sur CSS, améliorez la présentation de votre formulaire.\n",
    "\n",
    "Exemple de présentation :\n",
    "    \n",
    "<img src=\"Q2-1.png\" style=\"border-radius: 7px; border: 1px solid black;box-shadow: 5px 5px 5px black\">\n",
    "&nbsp;"
   ]
  },
  {
   "cell_type": "markdown",
   "metadata": {},
   "source": [
    "### 3. Traitement de la réponse"
   ]
  },
  {
   "cell_type": "markdown",
   "metadata": {},
   "source": [
    "<div style=\"background-color:#eef;padding:10px;border-radius:3px\">\n",
    "<b>3.1 -</b>Développez une interface <a href=\"http://localhost:8080/Q3-1.html\"><tt>Q3-1.html</tt></a> avec un formulaire comportant un élément <tt>select</tt> pour choisir le fuseau horaire dans lequel on veut l'heure, et interfacez-la avec un nouveau serveur nommé <tt>Q3-1.py</tt> que vous développerez sur la base du serveur précédent et du travail réalisé lors du TD2 _(serveurs Q4-3 à Q5-3)_, qui renvoie l'heure dans le fuseau courant et dans celui passé en paramètre.\n",
    "\n",
    "<img src=\"Q3-1.png\" style=\"border-radius: 7px; border: 1px solid black;box-shadow: 5px 5px 5px black\">\n",
    "&nbsp;"
   ]
  },
  {
   "cell_type": "code",
   "execution_count": 5,
   "metadata": {
    "collapsed": false
   },
   "outputs": [],
   "source": [
    "%pycat Q3-1.py"
   ]
  },
  {
   "cell_type": "markdown",
   "metadata": {},
   "source": [
    "Lorsque la réponse revient, il est dommage qu'elle soit affichée dans une fenêtre différente, et dans une présentation très différente de celle de la page appelante _(sauf si vous avez prévu la présentation dans le code renvoyé par votre serveur)_.\n",
    "\n",
    "Nous allons maintenant modifier le serveur pour qu'il renvoie directement les données _(non formattées en HTML)_ et pour que la page appelante affiche directement le résultat obtenu en envoyant une requête AJAX plutôt qu'en soumettant un formulaire."
   ]
  },
  {
   "cell_type": "markdown",
   "metadata": {},
   "source": [
    "<div style=\"background-color:#eef;padding:10px;border-radius:3px\">\n",
    "<b>3.2 -</b> Modifiez le serveur en le renommant <tt>Q3-2.py</tt> pour qu'il renvoie de l'information formatée en JSON, plutôt que du texte HTML. On s'attend à une réponse qui ressemble à :\n",
    "\n",
    "<pre>\n",
    "{\n",
    "  \"utctime\": \"vendredi 04 d\\u00e9cembre 2015, 14:05:06\",\n",
    "  \"tzname\": \"America/Anchorage\",\n",
    "  \"tztime\": \"vendredi 04 d\\u00e9cembre 2015, 05:05:06\"\n",
    "}\n",
    "</pre>"
   ]
  },
  {
   "cell_type": "code",
   "execution_count": 6,
   "metadata": {
    "collapsed": false
   },
   "outputs": [],
   "source": [
    "%pycat Q3-2.py"
   ]
  },
  {
   "cell_type": "markdown",
   "metadata": {},
   "source": [
    "<div style=\"background-color:#eef;padding:10px;border-radius:3px\">\n",
    "<b>3.3 -</b> Modifiez maintenant votre interface en l'appelant <a href=\"http://localhost:8080/Q3-3.html\"><tt>Q3-3.html</tt></a> :\n",
    "- supprimez les balises <tt>form</tt> <i>(ouvrante et fermante)</i>,\n",
    "- ajoutez un paragraphe ou un élément <tt>&lt;div&gt;</tt> avec un attribut <tt>id=\"reponse\"</tt>, \n",
    "- remplacez le cas échéant la balise <tt>&lt;input type=\"submit\"&gt;</tt> par un élément <tt>&lt;button&gt;</tt> avec un attribut <tt>id=\"bouton\"</tt>,\n",
    "- puis déclarez un gestionnaire d'événement pour un clic sur le bouton avec le code Javascript suivant :\n",
    "<pre>\n",
    "&lt;script&gt;\n",
    "document.getElementById('bouton').addEventListener('click', function() {\n",
    "  var tz = document.getElementById('timezone').value\n",
    "      dropzone = document.getElementById('reponse')\n",
    "    , r = new XMLHttpRequest()\n",
    "  ;\n",
    "  r.onload = function() {\n",
    "    var data = JSON.parse(this.responseText)\n",
    "      , time = data.tztime\n",
    "    ;\n",
    "    dropzone.textContent = time;\n",
    "  };\n",
    "  r.open('GET','/time/'+tz,true);\n",
    "  r.send();\n",
    "});\n",
    "&lt;/script&gt;</pre>\n",
    "\n",
    "Vous pouvez espérer un résultat de ce type :\n",
    "\n",
    "<img src=\"Q3-3.png\" style=\"border-radius: 7px; border: 1px solid black;box-shadow: 5px 5px 5px black\">\n",
    "&nbsp;"
   ]
  },
  {
   "cell_type": "markdown",
   "metadata": {},
   "source": [
    "<div style=\"background-color:#eef;padding:10px;border-radius:3px\">\n",
    "<b>3.4 -</b> Il est dommage d'être obligé d'actionner le bouton \"Envoyer\"...\n",
    "\n",
    "Lorsque la valeur d'un élément interactif est modifiée, cet élément émet un événement nommé <tt>change</tt>. Modifiez cette interface en l'appelant <a href=\"http://localhost:8080/Q3-4.html\"><tt>Q3-4.html</tt></a>. Supprimez le bouton, puis déclenchez l'appel AJAX directement lorsque la valeur de l'élément <tt>&lt;select&gt;</tt> est modifiée.\n",
    "\n",
    "Profitez-en pour améliorer la présentation du résultat renvoyé par le serveur :\n",
    "\n",
    "<img src=\"Q3-4.png\" style=\"border-radius: 7px; border: 1px solid black;box-shadow: 5px 5px 5px black\">\n",
    "&nbsp;"
   ]
  },
  {
   "cell_type": "markdown",
   "metadata": {},
   "source": [
    "### 4. Calcul et affichage d'une image"
   ]
  },
  {
   "cell_type": "markdown",
   "metadata": {},
   "source": [
    "<div style=\"background-color:#eef;padding:10px;border-radius:3px\">\n",
    "<b>4.1 -</b> Rapatriez le module <tt>generic.py</tt>, la base de données <tt>sncf.sqlite</tt>, et le serveur nommé <tt>Q7-1.py</tt> du TD2 dans le répertoire dédié au présent TD 3 en renommant ce dernier <tt>Q4-1.py</tt>, puis développez une interface nommée <a href=\"http://localhost:8080/Q4-1.html\"><tt>Q4-1.html</tt></a> pour ce serveur. L'objectif est de pouvoir :\n",
    "- afficher un diagramme de ponctualité en le créant côté serveur si nécessaire,\n",
    "- supprimer l'image côté serveur si elle existe.\n",
    "\n",
    "<img src=\"Q4-1.png\" style=\"border-radius: 7px; border: 1px solid black;box-shadow: 5px 5px 5px black\">\n",
    "&nbsp;"
   ]
  },
  {
   "cell_type": "code",
   "execution_count": 2,
   "metadata": {
    "collapsed": false
   },
   "outputs": [],
   "source": [
    "%pycat Q4-1.py"
   ]
  },
  {
   "cell_type": "markdown",
   "metadata": {},
   "source": [
    "<div style=\"background-color:#eef;padding:10px;border-radius:3px\">\n",
    "<b>4.2 -</b>  Faites une copie du serveur <tt>Q4-1.py</tt> nommée <tt>Q4-2.py</tt>, puis modifiez-le pour qu'il ne renvoie plus une balise html <tt>&lt;image&gt;</tt> mais une structure JSON avec simplement le nom du fichier image. Côté client, votre nouvelle interface nommée <a href=\"http://localhost:8080/Q4-2.html\"><tt>Q4-2.html</tt></a> aura simplement à modifier l'attribut <tt>src</tt> de l'image dans le navigateur pour que celui-ci l'affiche correctement.\n",
    "\n",
    "Exemple de réponse attendue :\n",
    "<pre>\n",
    "{\n",
    "   \"title\": \"ponctualite RER E\",\n",
    "   \"img\": \"images/ponctualite_RER_E.png\"\n",
    "}\n",
    "</pre>\n",
    "\n",
    "Exemple de fonction de traitement côté client pour afficher l'image (N.B. il manque le détail de l'implémentation HTML) :\n",
    "<pre>\n",
    "var image =  document.querySelector('#reponse img')\n",
    "  , ligne = document.getElementById('ligne').value\n",
    "  , r = new XMLHttpRequest()\n",
    ";\n",
    "r.onload = function() {\n",
    "  var data = JSON.parse(this.responseText)\n",
    "  image.src = data.img;\n",
    "  image.alt = data.title;\n",
    "  image.title = data.title;\n",
    "};\n",
    "r.open('POST','/ponctualite/'+ligne,true);\n",
    "r.send();\n",
    "</pre>"
   ]
  },
  {
   "cell_type": "code",
   "execution_count": 10,
   "metadata": {
    "collapsed": false
   },
   "outputs": [],
   "source": [
    "%pycat Q4-2.py"
   ]
  },
  {
   "cell_type": "markdown",
   "metadata": {},
   "source": [
    "<div style=\"background-color:#eef;padding:10px;border-radius:3px\">\n",
    "<b>4.3 -</b> Si ce n'est déjà fait, modifiez encore une fois ce dernier serveur en le renommant <tt>Q4-3.py</tt> pour qu'il renvoie la liste des lignes au format JSON et utilisez cette information pour construire automatiquement la liste des options du select. La liste des lignes ne doit pas apparaître dans le code source HTML de l'interface <a href=\"http://localhost:8080/Q4-2.html\"><tt>Q4-3.html</tt></a>."
   ]
  },
  {
   "cell_type": "code",
   "execution_count": 3,
   "metadata": {
    "collapsed": false
   },
   "outputs": [],
   "source": [
    "%pycat Q4-3.py"
   ]
  },
  {
   "cell_type": "code",
   "execution_count": null,
   "metadata": {
    "collapsed": false
   },
   "outputs": [],
   "source": []
  }
 ],
 "metadata": {
  "kernelspec": {
   "display_name": "Python 3",
   "language": "python",
   "name": "python3"
  },
  "language_info": {
   "codemirror_mode": {
    "name": "ipython",
    "version": 3
   },
   "file_extension": ".py",
   "mimetype": "text/x-python",
   "name": "python",
   "nbconvert_exporter": "python",
   "pygments_lexer": "ipython3",
   "version": "3.4.3"
  }
 },
 "nbformat": 4,
 "nbformat_minor": 0
}
